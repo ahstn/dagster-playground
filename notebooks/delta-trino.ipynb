{
 "cells": [
  {
   "cell_type": "code",
   "execution_count": 2,
   "metadata": {},
   "outputs": [
    {
     "data": {
      "text/plain": [
       "array([[5.1, 3.5, 1.4, 0.2, 'Iris-setosa'],\n",
       "       [4.9, 3.0, 1.4, 0.2, 'Iris-setosa'],\n",
       "       [4.7, 3.2, 1.3, 0.2, 'Iris-setosa'],\n",
       "       [4.6, 3.1, 1.5, 0.2, 'Iris-setosa'],\n",
       "       [5.0, 3.6, 1.4, 0.2, 'Iris-setosa'],\n",
       "       [5.4, 3.9, 1.7, 0.4, 'Iris-setosa'],\n",
       "       [4.6, 3.4, 1.4, 0.3, 'Iris-setosa'],\n",
       "       [5.0, 3.4, 1.5, 0.2, 'Iris-setosa'],\n",
       "       [4.4, 2.9, 1.4, 0.2, 'Iris-setosa'],\n",
       "       [4.9, 3.1, 1.5, 0.1, 'Iris-setosa']], dtype=object)"
      ]
     },
     "execution_count": 2,
     "metadata": {},
     "output_type": "execute_result"
    }
   ],
   "source": [
    "import pandas as pd\n",
    "\n",
    "dataframe = pd.read_csv(\n",
    "    \"https://docs.dagster.io/assets/iris.csv\",\n",
    "    names=[\n",
    "        \"sepal_length_cm\",\n",
    "        \"sepal_width_cm\",\n",
    "        \"petal_length_cm\",\n",
    "        \"petal_width_cm\",\n",
    "        \"species\",\n",
    "    ],\n",
    ")\n",
    "\n",
    "dataframe.values[0:10]"
   ]
  },
  {
   "cell_type": "code",
   "execution_count": 20,
   "metadata": {},
   "outputs": [
    {
     "data": {
      "text/plain": [
       "[None, None]"
      ]
     },
     "execution_count": 20,
     "metadata": {},
     "output_type": "execute_result"
    }
   ],
   "source": [
    "from sqlalchemy import create_engine\n",
    "from sqlalchemy import text\n",
    "\n",
    "import fsspec\n",
    "import os\n",
    "from deltalake import write_deltalake\n",
    "\n",
    "engine = create_engine(\n",
    "    \"trino://trino@localhost:8080/delta\", connect_args={\"user\": \"trino\"}\n",
    ")\n",
    "\n",
    "conn = engine.connect()\n",
    "cur = conn.execute(text(\"CREATE SCHEMA IF NOT EXISTS notebook WITH (LOCATION='s3a://warehouse/delta-notebook/')\"))\n",
    "\n",
    "# https://s3fs.readthedocs.io/en/latest/api.html#s3fs.core.S3FileSystem\n",
    "fs = fsspec.filesystem(protocol=\"s3a\", key=\"minio\", secret=\"minio123\", endpoint_url=\"http://localhost:4566\")\n",
    "\n",
    "file_path = os.path.join(\"delta-notebook\", \"iris\")\n",
    "fs.makedirs(os.path.dirname(file_path), exist_ok=True)\n",
    "\n",
    "write_deltalake(file_path, dataframe, mode='overwrite')\n",
    "fs.put(file_path, \"s3a://warehouse/delta-notebook/iris\", recursive=True)"
   ]
  },
  {
   "cell_type": "code",
   "execution_count": 24,
   "metadata": {},
   "outputs": [],
   "source": [
    "from sqlalchemy import text\n",
    "\n",
    "\n",
    "with engine.connect() as conn:\n",
    "    conn.execute(text(f\"\"\"\n",
    "        CALL delta.system.register_table(schema_name => 'notebook', table_name => 'iris', table_location => 's3a://warehouse/delta-notebook/iris')\n",
    "    \"\"\"))\n",
    "    conn.commit()\n"
   ]
  }
 ],
 "metadata": {
  "kernelspec": {
   "display_name": "env",
   "language": "python",
   "name": "python3"
  },
  "language_info": {
   "codemirror_mode": {
    "name": "ipython",
    "version": 3
   },
   "file_extension": ".py",
   "mimetype": "text/x-python",
   "name": "python",
   "nbconvert_exporter": "python",
   "pygments_lexer": "ipython3",
   "version": "3.10.12"
  }
 },
 "nbformat": 4,
 "nbformat_minor": 2
}
