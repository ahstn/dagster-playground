{
 "cells": [
  {
   "cell_type": "code",
   "execution_count": 7,
   "metadata": {},
   "outputs": [
    {
     "data": {
      "text/plain": [
       "array([[5.1, 3.5, 1.4, 0.2, 'Iris-setosa'],\n",
       "       [4.9, 3.0, 1.4, 0.2, 'Iris-setosa'],\n",
       "       [4.7, 3.2, 1.3, 0.2, 'Iris-setosa'],\n",
       "       [4.6, 3.1, 1.5, 0.2, 'Iris-setosa'],\n",
       "       [5.0, 3.6, 1.4, 0.2, 'Iris-setosa'],\n",
       "       [5.4, 3.9, 1.7, 0.4, 'Iris-setosa'],\n",
       "       [4.6, 3.4, 1.4, 0.3, 'Iris-setosa'],\n",
       "       [5.0, 3.4, 1.5, 0.2, 'Iris-setosa'],\n",
       "       [4.4, 2.9, 1.4, 0.2, 'Iris-setosa'],\n",
       "       [4.9, 3.1, 1.5, 0.1, 'Iris-setosa']], dtype=object)"
      ]
     },
     "execution_count": 7,
     "metadata": {},
     "output_type": "execute_result"
    }
   ],
   "source": [
    "import pandas as pd\n",
    "\n",
    "dataframe = pd.read_csv(\n",
    "    \"https://docs.dagster.io/assets/iris.csv\",\n",
    "    names=[\n",
    "        \"sepal_length_cm\",\n",
    "        \"sepal_width_cm\",\n",
    "        \"petal_length_cm\",\n",
    "        \"petal_width_cm\",\n",
    "        \"species\",\n",
    "    ],\n",
    ")\n",
    "\n",
    "dataframe.values[0:10]"
   ]
  },
  {
   "cell_type": "code",
   "execution_count": 8,
   "metadata": {},
   "outputs": [],
   "source": [
    "import fsspec\n",
    "import os\n",
    "from pyarrow import parquet, Table\n",
    "\n",
    "# https://s3fs.readthedocs.io/en/latest/api.html#s3fs.core.S3FileSystem\n",
    "fs = fsspec.filesystem(protocol=\"s3a\", key=\"minio\", secret=\"minio123\", endpoint_url=\"http://localhost:9000\")\n",
    "\n",
    "file_path = os.path.join(\"s3a://warehouse\", \"notebooks\", \"test.parquet\")\n",
    "fs.makedirs(os.path.dirname(file_path), exist_ok=True)\n",
    "\n",
    "parquet.write_table(Table.from_pandas(dataframe), file_path, filesystem=fs)"
   ]
  }
 ],
 "metadata": {
  "kernelspec": {
   "display_name": "env",
   "language": "python",
   "name": "python3"
  },
  "language_info": {
   "codemirror_mode": {
    "name": "ipython",
    "version": 3
   },
   "file_extension": ".py",
   "mimetype": "text/x-python",
   "name": "python",
   "nbconvert_exporter": "python",
   "pygments_lexer": "ipython3",
   "version": "3.10.12"
  }
 },
 "nbformat": 4,
 "nbformat_minor": 2
}
